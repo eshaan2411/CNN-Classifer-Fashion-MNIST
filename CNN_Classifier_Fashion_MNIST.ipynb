{
 "cells": [
  {
   "cell_type": "code",
   "execution_count": null,
   "metadata": {
    "id": "yNZq7QAYe7IB"
   },
   "outputs": [],
   "source": [
    "!pip install keras-tuner"
   ]
  },
  {
   "cell_type": "code",
   "execution_count": 3,
   "metadata": {
    "id": "lQzq9LhqfZBA"
   },
   "outputs": [],
   "source": [
    "import numpy as np\n",
    "\n",
    "import tensorflow as tf\n",
    "from tensorflow import keras\n",
    "from keras_tuner.tuners import RandomSearch\n",
    "from keras_tuner.engine.hyperparameters import HyperParameters"
   ]
  },
  {
   "cell_type": "code",
   "execution_count": 4,
   "metadata": {
    "colab": {
     "base_uri": "https://localhost:8080/",
     "height": 36
    },
    "id": "b9bAwPP9f8Iz",
    "outputId": "c6d46431-7e98-406c-fa2a-5149319fece1"
   },
   "outputs": [
    {
     "data": {
      "application/vnd.google.colaboratory.intrinsic+json": {
       "type": "string"
      },
      "text/plain": [
       "'2.8.2'"
      ]
     },
     "execution_count": 4,
     "metadata": {},
     "output_type": "execute_result"
    }
   ],
   "source": [
    "tf.__version__"
   ]
  },
  {
   "cell_type": "code",
   "execution_count": 5,
   "metadata": {
    "colab": {
     "base_uri": "https://localhost:8080/"
    },
    "id": "upHuNC4Rf_b8",
    "outputId": "ac490da1-9aa5-4311-bdfa-dad3adaa629e"
   },
   "outputs": [
    {
     "name": "stdout",
     "output_type": "stream",
     "text": [
      "Downloading data from https://storage.googleapis.com/tensorflow/tf-keras-datasets/train-labels-idx1-ubyte.gz\n",
      "32768/29515 [=================================] - 0s 0us/step\n",
      "40960/29515 [=========================================] - 0s 0us/step\n",
      "Downloading data from https://storage.googleapis.com/tensorflow/tf-keras-datasets/train-images-idx3-ubyte.gz\n",
      "26427392/26421880 [==============================] - 0s 0us/step\n",
      "26435584/26421880 [==============================] - 0s 0us/step\n",
      "Downloading data from https://storage.googleapis.com/tensorflow/tf-keras-datasets/t10k-labels-idx1-ubyte.gz\n",
      "16384/5148 [===============================================================================================] - 0s 0us/step\n",
      "Downloading data from https://storage.googleapis.com/tensorflow/tf-keras-datasets/t10k-images-idx3-ubyte.gz\n",
      "4423680/4422102 [==============================] - 0s 0us/step\n",
      "4431872/4422102 [==============================] - 0s 0us/step\n"
     ]
    }
   ],
   "source": [
    "fashion_df = keras.datasets.fashion_mnist\n",
    "\n",
    "(train_images, train_labels), (test_images, test_labels) = fashion_df.load_data()"
   ]
  },
  {
   "cell_type": "code",
   "execution_count": 6,
   "metadata": {
    "id": "5_MBNdpag6gP"
   },
   "outputs": [],
   "source": [
    "train_images = train_images/255.0\n",
    "test_images = test_images/255.0"
   ]
  },
  {
   "cell_type": "code",
   "execution_count": 7,
   "metadata": {
    "colab": {
     "base_uri": "https://localhost:8080/"
    },
    "id": "q1p6tytGhW0w",
    "outputId": "dea94494-81aa-465a-d0ee-6a13f31386da"
   },
   "outputs": [
    {
     "data": {
      "text/plain": [
       "(28, 28)"
      ]
     },
     "execution_count": 7,
     "metadata": {},
     "output_type": "execute_result"
    }
   ],
   "source": [
    "train_images[0].shape "
   ]
  },
  {
   "cell_type": "code",
   "execution_count": 8,
   "metadata": {
    "colab": {
     "base_uri": "https://localhost:8080/"
    },
    "id": "K7iEKTwohagY",
    "outputId": "03a28a42-5587-40d1-bb28-29a20e01bbf4"
   },
   "outputs": [
    {
     "data": {
      "text/plain": [
       "60000"
      ]
     },
     "execution_count": 8,
     "metadata": {},
     "output_type": "execute_result"
    }
   ],
   "source": [
    "len(train_images)"
   ]
  },
  {
   "cell_type": "code",
   "execution_count": 9,
   "metadata": {
    "id": "v8qBsnUViOHK"
   },
   "outputs": [],
   "source": [
    "train_images = train_images.reshape(len(train_images), 28, 28, 1)\n",
    "test_images = test_images.reshape(len(test_images), 28, 28, 1)"
   ]
  },
  {
   "cell_type": "code",
   "execution_count": 10,
   "metadata": {
    "id": "Qpx7ktKpiNvZ"
   },
   "outputs": [],
   "source": [
    "def build_model(hp):\n",
    "  model = keras.Sequential([\n",
    "      keras.layers.Conv2D(\n",
    "          filters=hp.Int(\"conv_1_filter\", min_value=32, max_value=128, step=16), \n",
    "          kernel_size=hp.Choice(\"conv_1_kernel\", values=[3, 5]), \n",
    "          activation=\"relu\", \n",
    "          input_shape=(28, 28, 1)                      \n",
    "      ), \n",
    "      keras.layers.Conv2D(\n",
    "          filters=hp.Int(\"conv_2_filter\", min_value=32, max_value=64, step=16), \n",
    "          kernel_size=hp.Choice(\"conv_2_kernel\", values=[3, 5]), \n",
    "          activation=\"relu\", \n",
    "      ), \n",
    "      keras.layers.Flatten(), \n",
    "      keras.layers.Dense(\n",
    "          units=hp.Int(\"dense_1_units\", min_value=32, max_value=128, step=16), \n",
    "          activation=\"relu\"\n",
    "      ), \n",
    "      keras.layers.Dense(units=10, activation=\"softmax\")\n",
    "  ])\n",
    "\n",
    "  model.compile(\n",
    "      optimizer=keras.optimizers.Adam(hp.Choice(\"learning_rate\", values=[1e-2, 1e-3])), \n",
    "      loss=\"sparse_categorical_crossentropy\", \n",
    "      metrics=[\"accuracy\"]\n",
    "  )\n",
    "\n",
    "  return model"
   ]
  },
  {
   "cell_type": "code",
   "execution_count": 12,
   "metadata": {
    "id": "9aCYsdj2m1KU"
   },
   "outputs": [],
   "source": [
    "tuner = RandomSearch(\n",
    "    build_model, \n",
    "    objective=\"val_accuracy\", \n",
    "    max_trials=5, \n",
    "    # executions_per_trail=3, \n",
    "    directory=\"CNN Output\", \n",
    "    project_name=\"CNN MNIST\"\n",
    ")"
   ]
  },
  {
   "cell_type": "code",
   "execution_count": 13,
   "metadata": {
    "colab": {
     "base_uri": "https://localhost:8080/"
    },
    "id": "8h66DU5FrAqQ",
    "outputId": "4c830ee6-bf5a-4584-89d1-58597e7810b1"
   },
   "outputs": [
    {
     "name": "stdout",
     "output_type": "stream",
     "text": [
      "Trial 5 Complete [00h 00m 42s]\n",
      "val_accuracy: 0.8790000081062317\n",
      "\n",
      "Best val_accuracy So Far: 0.9128333330154419\n",
      "Total elapsed time: 00h 04m 12s\n",
      "INFO:tensorflow:Oracle triggered exit\n"
     ]
    }
   ],
   "source": [
    "tuner.search(train_images, train_labels, \n",
    "             epochs=5, \n",
    "             validation_split=0.1)"
   ]
  },
  {
   "cell_type": "code",
   "execution_count": 16,
   "metadata": {
    "id": "Ua9CAz10tRXM"
   },
   "outputs": [],
   "source": [
    "model = tuner.get_best_models(num_models=1)[0]"
   ]
  },
  {
   "cell_type": "code",
   "execution_count": 17,
   "metadata": {
    "colab": {
     "base_uri": "https://localhost:8080/"
    },
    "id": "pOzyXo0Ttpak",
    "outputId": "d80a313b-4265-4af3-897f-d04020022316"
   },
   "outputs": [
    {
     "name": "stdout",
     "output_type": "stream",
     "text": [
      "Model: \"sequential\"\n",
      "_________________________________________________________________\n",
      " Layer (type)                Output Shape              Param #   \n",
      "=================================================================\n",
      " conv2d (Conv2D)             (None, 24, 24, 32)        832       \n",
      "                                                                 \n",
      " conv2d_1 (Conv2D)           (None, 20, 20, 48)        38448     \n",
      "                                                                 \n",
      " flatten (Flatten)           (None, 19200)             0         \n",
      "                                                                 \n",
      " dense (Dense)               (None, 128)               2457728   \n",
      "                                                                 \n",
      " dense_1 (Dense)             (None, 10)                1290      \n",
      "                                                                 \n",
      "=================================================================\n",
      "Total params: 2,498,298\n",
      "Trainable params: 2,498,298\n",
      "Non-trainable params: 0\n",
      "_________________________________________________________________\n"
     ]
    }
   ],
   "source": [
    "model.summary()"
   ]
  },
  {
   "cell_type": "code",
   "execution_count": 19,
   "metadata": {
    "colab": {
     "base_uri": "https://localhost:8080/"
    },
    "id": "8F9MyF5bt5QJ",
    "outputId": "de372f92-7f19-46a6-d5c1-252aa378dec6"
   },
   "outputs": [
    {
     "name": "stdout",
     "output_type": "stream",
     "text": [
      "Epoch 6/25\n",
      "1500/1500 [==============================] - 7s 4ms/step - loss: 0.1189 - accuracy: 0.9552 - val_loss: 0.2030 - val_accuracy: 0.9310\n",
      "Epoch 7/25\n",
      "1500/1500 [==============================] - 6s 4ms/step - loss: 0.0891 - accuracy: 0.9663 - val_loss: 0.2243 - val_accuracy: 0.9291\n",
      "Epoch 8/25\n",
      "1500/1500 [==============================] - 6s 4ms/step - loss: 0.0660 - accuracy: 0.9756 - val_loss: 0.2659 - val_accuracy: 0.9233\n",
      "Epoch 9/25\n",
      "1500/1500 [==============================] - 6s 4ms/step - loss: 0.0478 - accuracy: 0.9830 - val_loss: 0.2821 - val_accuracy: 0.9209\n",
      "Epoch 10/25\n",
      "1500/1500 [==============================] - 6s 4ms/step - loss: 0.0387 - accuracy: 0.9864 - val_loss: 0.3441 - val_accuracy: 0.9252\n",
      "Epoch 11/25\n",
      "1500/1500 [==============================] - 6s 4ms/step - loss: 0.0365 - accuracy: 0.9867 - val_loss: 0.3540 - val_accuracy: 0.9224\n",
      "Epoch 12/25\n",
      "1500/1500 [==============================] - 6s 4ms/step - loss: 0.0280 - accuracy: 0.9901 - val_loss: 0.3953 - val_accuracy: 0.9247\n",
      "Epoch 13/25\n",
      "1500/1500 [==============================] - 6s 4ms/step - loss: 0.0249 - accuracy: 0.9913 - val_loss: 0.4373 - val_accuracy: 0.9228\n",
      "Epoch 14/25\n",
      "1500/1500 [==============================] - 6s 4ms/step - loss: 0.0244 - accuracy: 0.9914 - val_loss: 0.4531 - val_accuracy: 0.9191\n",
      "Epoch 15/25\n",
      "1500/1500 [==============================] - 6s 4ms/step - loss: 0.0209 - accuracy: 0.9930 - val_loss: 0.4649 - val_accuracy: 0.9223\n",
      "Epoch 16/25\n",
      "1500/1500 [==============================] - 6s 4ms/step - loss: 0.0193 - accuracy: 0.9934 - val_loss: 0.4979 - val_accuracy: 0.9171\n",
      "Epoch 17/25\n",
      "1500/1500 [==============================] - 6s 4ms/step - loss: 0.0186 - accuracy: 0.9937 - val_loss: 0.5240 - val_accuracy: 0.9222\n",
      "Epoch 18/25\n",
      "1500/1500 [==============================] - 6s 4ms/step - loss: 0.0182 - accuracy: 0.9939 - val_loss: 0.5396 - val_accuracy: 0.9192\n",
      "Epoch 19/25\n",
      "1500/1500 [==============================] - 6s 4ms/step - loss: 0.0166 - accuracy: 0.9943 - val_loss: 0.6262 - val_accuracy: 0.9143\n",
      "Epoch 20/25\n",
      "1500/1500 [==============================] - 6s 4ms/step - loss: 0.0232 - accuracy: 0.9930 - val_loss: 0.6355 - val_accuracy: 0.9150\n",
      "Epoch 21/25\n",
      "1500/1500 [==============================] - 6s 4ms/step - loss: 0.0151 - accuracy: 0.9952 - val_loss: 0.6476 - val_accuracy: 0.9158\n",
      "Epoch 22/25\n",
      "1500/1500 [==============================] - 6s 4ms/step - loss: 0.0182 - accuracy: 0.9945 - val_loss: 0.6962 - val_accuracy: 0.9211\n",
      "Epoch 23/25\n",
      "1500/1500 [==============================] - 6s 4ms/step - loss: 0.0131 - accuracy: 0.9957 - val_loss: 0.6891 - val_accuracy: 0.9219\n",
      "Epoch 24/25\n",
      "1500/1500 [==============================] - 6s 4ms/step - loss: 0.0128 - accuracy: 0.9960 - val_loss: 0.7136 - val_accuracy: 0.9174\n",
      "Epoch 25/25\n",
      "1500/1500 [==============================] - 6s 4ms/step - loss: 0.0180 - accuracy: 0.9947 - val_loss: 0.7908 - val_accuracy: 0.9181\n"
     ]
    },
    {
     "data": {
      "text/plain": [
       "<keras.callbacks.History at 0x7f05e46b7450>"
      ]
     },
     "execution_count": 19,
     "metadata": {},
     "output_type": "execute_result"
    }
   ],
   "source": [
    "model.fit(\n",
    "    train_images, \n",
    "    train_labels, \n",
    "    epochs = 25, \n",
    "    validation_split=0.2, \n",
    "    initial_epoch=5\n",
    ")"
   ]
  },
  {
   "cell_type": "code",
   "execution_count": null,
   "metadata": {
    "id": "I7S1Ovi1t6Bp"
   },
   "outputs": [],
   "source": []
  }
 ],
 "metadata": {
  "accelerator": "GPU",
  "colab": {
   "collapsed_sections": [],
   "name": "CNN Classifier - Fashion MNIST.ipynb",
   "provenance": []
  },
  "gpuClass": "standard",
  "kernelspec": {
   "display_name": "Python 3",
   "language": "python",
   "name": "python3"
  },
  "language_info": {
   "codemirror_mode": {
    "name": "ipython",
    "version": 3
   },
   "file_extension": ".py",
   "mimetype": "text/x-python",
   "name": "python",
   "nbconvert_exporter": "python",
   "pygments_lexer": "ipython3",
   "version": "3.9.5"
  }
 },
 "nbformat": 4,
 "nbformat_minor": 1
}
